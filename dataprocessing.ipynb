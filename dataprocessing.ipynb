{
 "cells": [
  {
   "cell_type": "code",
   "execution_count": 32,
   "id": "cc12f94e",
   "metadata": {},
   "outputs": [],
   "source": [
    "import pandas as pd"
   ]
  },
  {
   "cell_type": "code",
   "execution_count": null,
   "id": "55be510e",
   "metadata": {},
   "outputs": [
    {
     "name": "stdout",
     "output_type": "stream",
     "text": [
      "Original DataFrame:\n",
      "     Name   Age   Salary\n",
      "0   Pawan  25.0  50000.0\n",
      "1   Kapil   NaN  60000.0\n",
      "2   Lalit  44.0  70000.0\n",
      "3  Ishaan  23.0      NaN\n",
      "4      Om   NaN      NaN\n",
      "Name      0\n",
      "Age       2\n",
      "Salary    2\n",
      "dtype: int64\n",
      "Name       0.0\n",
      "Age       40.0\n",
      "Salary    40.0\n",
      "dtype: float64\n",
      "    Name   Age   Salary\n",
      "0  Pawan  25.0  50000.0\n",
      "2  Lalit  44.0  70000.0\n",
      "     Name        Age   Salary\n",
      "0   Pawan  25.000000  50000.0\n",
      "1   Kapil  30.666667  60000.0\n",
      "2   Lalit  44.000000  70000.0\n",
      "3  Ishaan  23.000000  60000.0\n",
      "4      Om  30.666667  60000.0\n"
     ]
    }
   ],
   "source": [
    "data = {\n",
    "    'Name' : ['Pawan', ' Kapil', 'Lalit', 'Ishaan', 'Om'],\n",
    "    'Age' : [25, None, 44, 23, None],\n",
    "    'Salary' : [50000, 60000, 70000, None, None]\n",
    "}\n",
    "\n",
    "df = pd.DataFrame(data)\n",
    "print(\"Original DataFrame:\")\n",
    "print(df)\n",
    "\n",
    "print(df.isnull().sum())\n",
    "print(df.isnull().mean() * 100)\n",
    "\n",
    "df_drop = df.dropna()\n",
    "print(df_drop)\n",
    "\n",
    "df['Age'] = df['Age'].fillna(df['Age'].mean())\n",
    "df['Salary'] =df['Salary'].fillna(df['Salary'].mean())\n",
    "print(df)"
   ]
  }
 ],
 "metadata": {
  "kernelspec": {
   "display_name": "Python 3",
   "language": "python",
   "name": "python3"
  },
  "language_info": {
   "codemirror_mode": {
    "name": "ipython",
    "version": 3
   },
   "file_extension": ".py",
   "mimetype": "text/x-python",
   "name": "python",
   "nbconvert_exporter": "python",
   "pygments_lexer": "ipython3",
   "version": "3.13.5"
  }
 },
 "nbformat": 4,
 "nbformat_minor": 5
}
