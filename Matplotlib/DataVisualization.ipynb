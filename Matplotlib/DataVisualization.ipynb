{
 "cells": [
  {
   "cell_type": "markdown",
   "id": "170e4e8a",
   "metadata": {},
   "source": [
    "# Data visualization\n",
    "1. Why visualization matters in Machine Learning ?\n",
    "\n",
    "-Data is the fuel of ML. If you don’t understand your data, your model won’t work well.\n",
    "-Visualization helps you:\n",
    "  >See patterns (like trends or clusters)\n",
    "  >Detect outliers (strange values that can mess up the model)\n",
    "  >Compare model performance"
   ]
  }
 ],
 "metadata": {
  "language_info": {
   "name": "python"
  }
 },
 "nbformat": 4,
 "nbformat_minor": 5
}
